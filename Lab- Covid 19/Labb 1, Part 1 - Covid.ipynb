{
 "cells": [
  {
   "cell_type": "code",
   "execution_count": null,
   "metadata": {},
   "outputs": [],
   "source": [
    "import pandas as pd"
   ]
  },
  {
   "cell_type": "code",
   "execution_count": null,
   "metadata": {},
   "outputs": [],
   "source": [
    "weekly_data = pd.read_excel(\"./Data/Covid19.xlsx\", sheet_name = 'Veckodata Riket')"
   ]
  }
 ],
 "metadata": {
  "kernelspec": {
   "display_name": "Project-OS-USA-6-TnkmDB",
   "language": "python",
   "name": "python3"
  },
  "language_info": {
   "name": "python",
   "version": "3.12.0"
  }
 },
 "nbformat": 4,
 "nbformat_minor": 2
}
